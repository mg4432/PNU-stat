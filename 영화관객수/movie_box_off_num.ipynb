{
 "cells": [
  {
   "cell_type": "markdown",
   "metadata": {},
   "source": [
    "# data"
   ]
  },
  {
   "cell_type": "markdown",
   "metadata": {},
   "source": [
    "## competition description\n",
    "> https://dacon.io/competitions/open/235536/overview/description"
   ]
  },
  {
   "cell_type": "code",
   "execution_count": 1,
   "metadata": {
    "ExecuteTime": {
     "end_time": "2022-05-22T11:23:32.775844Z",
     "start_time": "2022-05-22T11:23:24.235639Z"
    }
   },
   "outputs": [],
   "source": [
    "import numpy as np \n",
    "import pandas as pd \n",
    "import matplotlib.pyplot as plt \n",
    "import seaborn as sns\n",
    "import re\n",
    "import datetime as dt\n",
    "\n",
    "import warnings\n",
    "warnings.filterwarnings('ignore')\n",
    "\n",
    "%matplotlib inline \n",
    "plt.rcParams['font.family'] = 'Malgun Gothic'\n",
    "plt.rcParams['font.size'] = 15\n",
    "plt.rcParams['figure.figsize'] = (20, 5)"
   ]
  },
  {
   "cell_type": "code",
   "execution_count": 2,
   "metadata": {
    "ExecuteTime": {
     "end_time": "2022-05-22T11:23:32.835677Z",
     "start_time": "2022-05-22T11:23:32.778844Z"
    }
   },
   "outputs": [
    {
     "data": {
      "text/html": [
       "<div>\n",
       "<style scoped>\n",
       "    .dataframe tbody tr th:only-of-type {\n",
       "        vertical-align: middle;\n",
       "    }\n",
       "\n",
       "    .dataframe tbody tr th {\n",
       "        vertical-align: top;\n",
       "    }\n",
       "\n",
       "    .dataframe thead th {\n",
       "        text-align: right;\n",
       "    }\n",
       "</style>\n",
       "<table border=\"1\" class=\"dataframe\">\n",
       "  <thead>\n",
       "    <tr style=\"text-align: right;\">\n",
       "      <th></th>\n",
       "      <th>title</th>\n",
       "      <th>distributor</th>\n",
       "      <th>genre</th>\n",
       "      <th>release_time</th>\n",
       "      <th>time</th>\n",
       "      <th>screening_rat</th>\n",
       "      <th>director</th>\n",
       "      <th>dir_prev_bfnum</th>\n",
       "      <th>dir_prev_num</th>\n",
       "      <th>num_staff</th>\n",
       "      <th>num_actor</th>\n",
       "      <th>box_off_num</th>\n",
       "    </tr>\n",
       "  </thead>\n",
       "  <tbody>\n",
       "    <tr>\n",
       "      <th>0</th>\n",
       "      <td>개들의 전쟁</td>\n",
       "      <td>롯데엔터테인먼트</td>\n",
       "      <td>액션</td>\n",
       "      <td>2012-11-22</td>\n",
       "      <td>96</td>\n",
       "      <td>청소년 관람불가</td>\n",
       "      <td>조병옥</td>\n",
       "      <td>NaN</td>\n",
       "      <td>0</td>\n",
       "      <td>91</td>\n",
       "      <td>2</td>\n",
       "      <td>23398</td>\n",
       "    </tr>\n",
       "    <tr>\n",
       "      <th>1</th>\n",
       "      <td>내부자들</td>\n",
       "      <td>(주)쇼박스</td>\n",
       "      <td>느와르</td>\n",
       "      <td>2015-11-19</td>\n",
       "      <td>130</td>\n",
       "      <td>청소년 관람불가</td>\n",
       "      <td>우민호</td>\n",
       "      <td>1161602.50</td>\n",
       "      <td>2</td>\n",
       "      <td>387</td>\n",
       "      <td>3</td>\n",
       "      <td>7072501</td>\n",
       "    </tr>\n",
       "    <tr>\n",
       "      <th>2</th>\n",
       "      <td>은밀하게 위대하게</td>\n",
       "      <td>(주)쇼박스</td>\n",
       "      <td>액션</td>\n",
       "      <td>2013-06-05</td>\n",
       "      <td>123</td>\n",
       "      <td>15세 관람가</td>\n",
       "      <td>장철수</td>\n",
       "      <td>220775.25</td>\n",
       "      <td>4</td>\n",
       "      <td>343</td>\n",
       "      <td>4</td>\n",
       "      <td>6959083</td>\n",
       "    </tr>\n",
       "    <tr>\n",
       "      <th>3</th>\n",
       "      <td>나는 공무원이다</td>\n",
       "      <td>(주)NEW</td>\n",
       "      <td>코미디</td>\n",
       "      <td>2012-07-12</td>\n",
       "      <td>101</td>\n",
       "      <td>전체 관람가</td>\n",
       "      <td>구자홍</td>\n",
       "      <td>23894.00</td>\n",
       "      <td>2</td>\n",
       "      <td>20</td>\n",
       "      <td>6</td>\n",
       "      <td>217866</td>\n",
       "    </tr>\n",
       "    <tr>\n",
       "      <th>4</th>\n",
       "      <td>불량남녀</td>\n",
       "      <td>쇼박스(주)미디어플렉스</td>\n",
       "      <td>코미디</td>\n",
       "      <td>2010-11-04</td>\n",
       "      <td>108</td>\n",
       "      <td>15세 관람가</td>\n",
       "      <td>신근호</td>\n",
       "      <td>1.00</td>\n",
       "      <td>1</td>\n",
       "      <td>251</td>\n",
       "      <td>2</td>\n",
       "      <td>483387</td>\n",
       "    </tr>\n",
       "  </tbody>\n",
       "</table>\n",
       "</div>"
      ],
      "text/plain": [
       "       title   distributor genre release_time  time screening_rat director  \\\n",
       "0     개들의 전쟁      롯데엔터테인먼트    액션   2012-11-22    96      청소년 관람불가      조병옥   \n",
       "1       내부자들        (주)쇼박스   느와르   2015-11-19   130      청소년 관람불가      우민호   \n",
       "2  은밀하게 위대하게        (주)쇼박스    액션   2013-06-05   123       15세 관람가      장철수   \n",
       "3   나는 공무원이다        (주)NEW   코미디   2012-07-12   101        전체 관람가      구자홍   \n",
       "4       불량남녀  쇼박스(주)미디어플렉스   코미디   2010-11-04   108       15세 관람가      신근호   \n",
       "\n",
       "   dir_prev_bfnum  dir_prev_num  num_staff  num_actor  box_off_num  \n",
       "0             NaN             0         91          2        23398  \n",
       "1      1161602.50             2        387          3      7072501  \n",
       "2       220775.25             4        343          4      6959083  \n",
       "3        23894.00             2         20          6       217866  \n",
       "4            1.00             1        251          2       483387  "
      ]
     },
     "execution_count": 2,
     "metadata": {},
     "output_type": "execute_result"
    }
   ],
   "source": [
    "data = pd.read_csv('movies_train.csv')\n",
    "test = pd.read_csv('movies_test.csv')\n",
    "data.head()"
   ]
  },
  {
   "cell_type": "code",
   "execution_count": 3,
   "metadata": {
    "ExecuteTime": {
     "end_time": "2022-05-22T11:23:32.865596Z",
     "start_time": "2022-05-22T11:23:32.837673Z"
    }
   },
   "outputs": [
    {
     "name": "stdout",
     "output_type": "stream",
     "text": [
      "<class 'pandas.core.frame.DataFrame'>\n",
      "RangeIndex: 600 entries, 0 to 599\n",
      "Data columns (total 12 columns):\n",
      " #   Column          Non-Null Count  Dtype  \n",
      "---  ------          --------------  -----  \n",
      " 0   title           600 non-null    object \n",
      " 1   distributor     600 non-null    object \n",
      " 2   genre           600 non-null    object \n",
      " 3   release_time    600 non-null    object \n",
      " 4   time            600 non-null    int64  \n",
      " 5   screening_rat   600 non-null    object \n",
      " 6   director        600 non-null    object \n",
      " 7   dir_prev_bfnum  270 non-null    float64\n",
      " 8   dir_prev_num    600 non-null    int64  \n",
      " 9   num_staff       600 non-null    int64  \n",
      " 10  num_actor       600 non-null    int64  \n",
      " 11  box_off_num     600 non-null    int64  \n",
      "dtypes: float64(1), int64(5), object(6)\n",
      "memory usage: 56.4+ KB\n"
     ]
    }
   ],
   "source": [
    "data.info()"
   ]
  },
  {
   "cell_type": "code",
   "execution_count": 4,
   "metadata": {
    "ExecuteTime": {
     "end_time": "2022-05-22T11:23:33.090163Z",
     "start_time": "2022-05-22T11:23:32.867592Z"
    },
    "scrolled": false
   },
   "outputs": [],
   "source": [
    "for idx in range(len(data)) : \n",
    "    release_split = data.loc[idx, 'release_time'].split('-')\n",
    "    data.loc[idx,'year'] = np.int(release_split[0])\n",
    "    data.loc[idx, 'month'] = np.int(release_split[1])\n",
    "    data.loc[idx, 'day'] = np.int(release_split[2])\n",
    "    \n",
    "for idx in range(len(test)) : \n",
    "    release_split = test.loc[idx, 'release_time'].split('-')\n",
    "    test.loc[idx,'year'] = np.int(release_split[0])\n",
    "    test.loc[idx, 'month'] = np.int(release_split[1])\n",
    "    test.loc[idx, 'day'] = np.int(release_split[2])"
   ]
  },
  {
   "cell_type": "code",
   "execution_count": 5,
   "metadata": {
    "ExecuteTime": {
     "end_time": "2022-05-22T11:23:33.105025Z",
     "start_time": "2022-05-22T11:23:33.091994Z"
    }
   },
   "outputs": [],
   "source": [
    "data.drop('release_time', axis = 1, inplace = True)\n",
    "test.drop('release_time', axis = 1, inplace = True)"
   ]
  },
  {
   "cell_type": "code",
   "execution_count": 6,
   "metadata": {
    "ExecuteTime": {
     "end_time": "2022-05-22T11:23:33.796261Z",
     "start_time": "2022-05-22T11:23:33.106953Z"
    }
   },
   "outputs": [
    {
     "data": {
      "text/plain": [
       "<AxesSubplot:xlabel='box_off_num', ylabel='Density'>"
      ]
     },
     "execution_count": 6,
     "metadata": {},
     "output_type": "execute_result"
    },
    {
     "data": {
      "image/png": "[encoded data removed]",
      "text/plain": [
       "<Figure size 1440x360 with 1 Axes>"
      ]
     },
     "metadata": {
      "needs_background": "light"
     },
     "output_type": "display_data"
    }
   ],
   "source": [
    "sns.kdeplot(x = 'box_off_num', data = data, shade = True)"
   ]
  },
  {
   "cell_type": "code",
   "execution_count": 7,
   "metadata": {
    "ExecuteTime": {
     "end_time": "2022-05-22T11:23:33.811238Z",
     "start_time": "2022-05-22T11:23:33.798154Z"
    }
   },
   "outputs": [
    {
     "name": "stdout",
     "output_type": "stream",
     "text": [
      "최다 관객 수 :  14262766\n",
      "관객 수 중앙값:  12591.0\n",
      "관객 수 평균:  708181.7516666667\n",
      "최소 관객 수 :  1\n"
     ]
    }
   ],
   "source": [
    "print('최다 관객 수 : ',data['box_off_num'].max())\n",
    "print('관객 수 중앙값: ',data['box_off_num'].median())\n",
    "print('관객 수 평균: ',data['box_off_num'].mean())\n",
    "print('최소 관객 수 : ',data['box_off_num'].min())"
   ]
  },
  {
   "cell_type": "code",
   "execution_count": 8,
   "metadata": {
    "ExecuteTime": {
     "end_time": "2022-05-22T11:23:33.826078Z",
     "start_time": "2022-05-22T11:23:33.814109Z"
    }
   },
   "outputs": [
    {
     "name": "stdout",
     "output_type": "stream",
     "text": [
      "Q1 :  1297.25\n",
      "Q3 :  479886.75\n"
     ]
    }
   ],
   "source": [
    "print('Q1 : ',np.percentile(data['box_off_num'], 25))\n",
    "print('Q3 : ',np.percentile(data['box_off_num'], 75))\n"
   ]
  },
  {
   "cell_type": "markdown",
   "metadata": {},
   "source": [
    "## missing "
   ]
  },
  {
   "cell_type": "code",
   "execution_count": 9,
   "metadata": {
    "ExecuteTime": {
     "end_time": "2022-05-22T11:23:33.841138Z",
     "start_time": "2022-05-22T11:23:33.829149Z"
    }
   },
   "outputs": [
    {
     "data": {
      "text/plain": [
       "title               0\n",
       "distributor         0\n",
       "genre               0\n",
       "time                0\n",
       "screening_rat       0\n",
       "director            0\n",
       "dir_prev_bfnum    330\n",
       "dir_prev_num        0\n",
       "num_staff           0\n",
       "num_actor           0\n",
       "box_off_num         0\n",
       "year                0\n",
       "month               0\n",
       "day                 0\n",
       "dtype: int64"
      ]
     },
     "execution_count": 9,
     "metadata": {},
     "output_type": "execute_result"
    }
   ],
   "source": [
    "data.isnull().sum()"
   ]
  },
  {
   "cell_type": "code",
   "execution_count": 10,
   "metadata": {
    "ExecuteTime": {
     "end_time": "2022-05-22T11:23:33.856077Z",
     "start_time": "2022-05-22T11:23:33.843111Z"
    }
   },
   "outputs": [
    {
     "data": {
      "text/html": [
       "<div>\n",
       "<style scoped>\n",
       "    .dataframe tbody tr th:only-of-type {\n",
       "        vertical-align: middle;\n",
       "    }\n",
       "\n",
       "    .dataframe tbody tr th {\n",
       "        vertical-align: top;\n",
       "    }\n",
       "\n",
       "    .dataframe thead th {\n",
       "        text-align: right;\n",
       "    }\n",
       "</style>\n",
       "<table border=\"1\" class=\"dataframe\">\n",
       "  <thead>\n",
       "    <tr style=\"text-align: right;\">\n",
       "      <th></th>\n",
       "      <th>title</th>\n",
       "      <th>distributor</th>\n",
       "      <th>genre</th>\n",
       "      <th>time</th>\n",
       "      <th>screening_rat</th>\n",
       "      <th>director</th>\n",
       "      <th>dir_prev_bfnum</th>\n",
       "      <th>dir_prev_num</th>\n",
       "      <th>num_staff</th>\n",
       "      <th>num_actor</th>\n",
       "      <th>box_off_num</th>\n",
       "      <th>year</th>\n",
       "      <th>month</th>\n",
       "      <th>day</th>\n",
       "    </tr>\n",
       "  </thead>\n",
       "  <tbody>\n",
       "  </tbody>\n",
       "</table>\n",
       "</div>"
      ],
      "text/plain": [
       "Empty DataFrame\n",
       "Columns: [title, distributor, genre, time, screening_rat, director, dir_prev_bfnum, dir_prev_num, num_staff, num_actor, box_off_num, year, month, day]\n",
       "Index: []"
      ]
     },
     "execution_count": 10,
     "metadata": {},
     "output_type": "execute_result"
    }
   ],
   "source": [
    "data[(data['dir_prev_bfnum'].isnull()) & (data['dir_prev_num']>0)]"
   ]
  },
  {
   "cell_type": "markdown",
   "metadata": {},
   "source": [
    "이전 작품 평균 관객 수가 NA인 경우 이전에 제작에 참여한 영화의 개수가 0임을 알 수 있다\n",
    "> 0으로 대체"
   ]
  },
  {
   "cell_type": "code",
   "execution_count": 11,
   "metadata": {
    "ExecuteTime": {
     "end_time": "2022-05-22T11:23:33.871956Z",
     "start_time": "2022-05-22T11:23:33.857992Z"
    }
   },
   "outputs": [],
   "source": [
    "data['dir_prev_bfnum'] = data['dir_prev_bfnum'].fillna(0)\n",
    "test['dir_prev_bfnum'] = test['dir_prev_bfnum'].fillna(0)"
   ]
  },
  {
   "cell_type": "markdown",
   "metadata": {},
   "source": [
    "## 제목"
   ]
  },
  {
   "cell_type": "code",
   "execution_count": 12,
   "metadata": {
    "ExecuteTime": {
     "end_time": "2022-05-22T11:23:33.886917Z",
     "start_time": "2022-05-22T11:23:33.874251Z"
    }
   },
   "outputs": [
    {
     "data": {
      "text/plain": [
       "600"
      ]
     },
     "execution_count": 12,
     "metadata": {},
     "output_type": "execute_result"
    }
   ],
   "source": [
    "# 제목은 unique하기 때문에 필요 없음 \n",
    "data['title'].nunique()"
   ]
  },
  {
   "cell_type": "code",
   "execution_count": 13,
   "metadata": {
    "ExecuteTime": {
     "end_time": "2022-05-22T11:23:33.901903Z",
     "start_time": "2022-05-22T11:23:33.888914Z"
    }
   },
   "outputs": [],
   "source": [
    "#data.drop('title', axis = 1, inplace = True)"
   ]
  },
  {
   "cell_type": "markdown",
   "metadata": {},
   "source": [
    "## 배급사"
   ]
  },
  {
   "cell_type": "code",
   "execution_count": 14,
   "metadata": {
    "ExecuteTime": {
     "end_time": "2022-05-22T11:23:33.916914Z",
     "start_time": "2022-05-22T11:23:33.903870Z"
    }
   },
   "outputs": [
    {
     "data": {
      "text/plain": [
       "169"
      ]
     },
     "execution_count": 14,
     "metadata": {},
     "output_type": "execute_result"
    }
   ],
   "source": [
    "# 배급사\n",
    "data['distributor'].nunique()"
   ]
  },
  {
   "cell_type": "markdown",
   "metadata": {},
   "source": [
    "169개의 배급사가 있음 -> 배급사별 평균 관객 수는 차이가 있는지 검정"
   ]
  },
  {
   "cell_type": "code",
   "execution_count": 15,
   "metadata": {
    "ExecuteTime": {
     "end_time": "2022-05-22T11:23:34.785858Z",
     "start_time": "2022-05-22T11:23:33.919829Z"
    }
   },
   "outputs": [],
   "source": [
    "data['distributor'] = data['distributor'].str.replace('\\(주\\)', '')\n",
    "data['distributor'] = data['distributor'].str.replace(' ', '')\n",
    "\n",
    "test['distributor'] = test['distributor'].str.replace('\\(주\\)', '')\n",
    "test['distributor'] = test['distributor'].str.replace(' ', '')"
   ]
  },
  {
   "cell_type": "code",
   "execution_count": 16,
   "metadata": {
    "ExecuteTime": {
     "end_time": "2022-05-22T11:23:34.800787Z",
     "start_time": "2022-05-22T11:23:34.787820Z"
    },
    "scrolled": true
   },
   "outputs": [
    {
     "data": {
      "text/plain": [
       "array(['롯데엔터테인먼트', '쇼박스', 'NEW', '쇼박스미디어플렉스', '백두대간', '유니버설픽쳐스인터내셔널코리아',\n",
       "       '두타연', '케이알씨지', '콘텐츠윙', '키노아이', '팝파트너스', 'CJE&M영화부문', '영화제작전원사',\n",
       "       'CJE&MPictures', 'CGV무비꼴라쥬', '리틀빅픽처스', '스폰지', 'CJ엔터테인먼트',\n",
       "       'CGV아트하우스', '조이앤시네마', '인디플러그', '콘텐츠판다', '인디스토리', '팝엔터테인먼트',\n",
       "       '시네마서비스', '웃기씨네', '영화사진진', '레인보우팩토리', '김기덕필름', 'CJCGV',\n",
       "       '동국대학교충무로영상제작센터', 'BoXoo엔터테인먼트', '마운틴픽쳐스', '메가박스플러스엠', '골든타이드픽처스',\n",
       "       '파이오니아21', '디씨드', '드림팩트엔터테인먼트', '시너지', '디마엔터테인먼트', '판다미디어',\n",
       "       '스톰픽쳐스코리아', '예지림엔터테인먼트', '영화사조제', '보람엔터테인먼트', '시네마달', '노바엔터테인먼트',\n",
       "       '패스파인더씨앤씨', '대명문화공장', '온비즈넷', 'KT&G상상마당', '무비꼴라쥬', '인벤트디',\n",
       "       '씨네그루키다리이엔티', '스튜디오후크', '나이너스엔터테인먼트', 'THE픽쳐스', '영구아트무비', '리틀빅픽쳐스',\n",
       "       '어뮤즈', '이모션픽처스', '이스트스카이필름', '필라멘트픽쳐스', '조이앤컨텐츠그룹', '타임스토리그룹',\n",
       "       '마운틴픽처스', '휘엔터테인먼트', '이십세기폭스코리아', '피터팬픽쳐스', '에스와이코마드', '더픽쳐스',\n",
       "       '오퍼스픽쳐스', '고앤고필름', '사람과사람들', 'JK필름', '씨너스엔터테인먼트', 'KT', '싸이더스FNH',\n",
       "       '프레인글로벌', '나우콘텐츠', '홀리가든', '브릿지웍스', '엣나인필름', '위더스필름', '에이원엔터테인먼트',\n",
       "       'OAL(올)', '싸이더스', '전망좋은영화사', '스토리셋', '이상우필름', '씨네굿필름', '영희야놀자',\n",
       "       '찬란', '어썸피플', '아방가르드필름', '스크린조이', '와이드릴리즈', 'tvN', '액티버스엔터테인먼트',\n",
       "       '더픽쳐스/마운틴픽쳐스', '제나두엔터테인먼트', '아이필름코퍼레이션', '쟈비스미디어', '트리필름', '에스피엠',\n",
       "       '건시네마', '키노엔터테인먼트', '아우라픽처스', '에이블엔터테인먼트', '드림로드', '인피니티엔터테인먼트',\n",
       "       '새인컴퍼니', '스튜디오느림보', '필름라인', 'M2픽처스', '고구마공작소', '미디어데이', '마노엔터테인먼트',\n",
       "       '화앤담이엔티', '스마일이엔티', '패뷸러스', '영화사조아', '판씨네마', '두엔터테인먼트',\n",
       "       '마인스엔터테인먼트', '전주국제영화제', '상구네필름', '케이엠스타', '유비네트워크', '한국YWCA연합회',\n",
       "       'KBS미디어', '더피플', '위드시네마', '팜코리아미디어', '씨엠닉스', 'SBS콘텐츠허브', '인터콘미디어',\n",
       "       '유비콘텐츠', '프로젝트엠피', '하준사', '노버스엔터테인먼트', '주머니필름', '롤러코스터프로덕션',\n",
       "       'SK플래닛', '서울독립영화제', '스튜디오블루', '랠리버튼', '머스트씨무비', 'SK텔레콤', '마법사필름',\n",
       "       '스폰지이엔티', '로드하우스', '미라클필름', '프리비젼엔터테인먼트', '영화사廊', '크리에이티브컴즈',\n",
       "       'ysfilm', '이달투', '퍼스트런'], dtype=object)"
      ]
     },
     "execution_count": 16,
     "metadata": {},
     "output_type": "execute_result"
    }
   ],
   "source": [
    "data['distributor'].unique()"
   ]
  },
  {
   "cell_type": "code",
   "execution_count": 17,
   "metadata": {
    "ExecuteTime": {
     "end_time": "2022-05-22T11:23:34.815772Z",
     "start_time": "2022-05-22T11:23:34.802782Z"
    }
   },
   "outputs": [],
   "source": [
    "# https://dacon.io/competitions/open/235536/codeshare/2721?page=1&dtype=recent\n",
    "\n",
    "def get_dis(x) :\n",
    "    if 'CJ' in x or 'CGV' in x :\n",
    "        return 'CJ'\n",
    "    elif '쇼박스' in x :\n",
    "        return '쇼박스'\n",
    "    elif 'SK' in x :\n",
    "        return 'SK'\n",
    "    elif '리틀빅픽' in x :\n",
    "        return '리틀빅픽처스'\n",
    "    elif '스폰지' in x :\n",
    "        return '스폰지'\n",
    "    elif '싸이더스' in x :\n",
    "        return '싸이더스'\n",
    "    elif '에이원' in x :\n",
    "        return '에이원'\n",
    "    elif '마인스' in x :\n",
    "        return '마인스'\n",
    "    elif '마운틴픽' in x :\n",
    "        return '마운틴픽처스'\n",
    "    elif '디씨드' in x :\n",
    "        return '디씨드'\n",
    "    elif '드림팩트' in x :\n",
    "        return '드림팩트'\n",
    "    elif '메가박스' in x :\n",
    "        return '메가박스'\n",
    "    elif '마운틴' in x :\n",
    "        return '마운틴'\n",
    "    else :\n",
    "        return x"
   ]
  },
  {
   "cell_type": "code",
   "execution_count": 18,
   "metadata": {
    "ExecuteTime": {
     "end_time": "2022-05-22T11:23:34.830706Z",
     "start_time": "2022-05-22T11:23:34.817773Z"
    }
   },
   "outputs": [],
   "source": [
    "data['distributor'] = data['distributor'].apply(get_dis) \n",
    "test['distributor'] = test['distributor'].apply(get_dis) "
   ]
  },
  {
   "cell_type": "code",
   "execution_count": 19,
   "metadata": {
    "ExecuteTime": {
     "end_time": "2022-05-22T11:23:34.845668Z",
     "start_time": "2022-05-22T11:23:34.832703Z"
    },
    "scrolled": true
   },
   "outputs": [],
   "source": [
    "box_off_num_by_distributor = data.groupby('distributor')['box_off_num'].median().sort_values(ascending = False)"
   ]
  },
  {
   "cell_type": "code",
   "execution_count": 20,
   "metadata": {
    "ExecuteTime": {
     "end_time": "2022-05-22T11:23:34.860627Z",
     "start_time": "2022-05-22T11:23:34.847661Z"
    }
   },
   "outputs": [
    {
     "data": {
      "text/html": [
       "<div>\n",
       "<style scoped>\n",
       "    .dataframe tbody tr th:only-of-type {\n",
       "        vertical-align: middle;\n",
       "    }\n",
       "\n",
       "    .dataframe tbody tr th {\n",
       "        vertical-align: top;\n",
       "    }\n",
       "\n",
       "    .dataframe thead th {\n",
       "        text-align: right;\n",
       "    }\n",
       "</style>\n",
       "<table border=\"1\" class=\"dataframe\">\n",
       "  <thead>\n",
       "    <tr style=\"text-align: right;\">\n",
       "      <th></th>\n",
       "      <th>box_off_num</th>\n",
       "    </tr>\n",
       "    <tr>\n",
       "      <th>distributor</th>\n",
       "      <th></th>\n",
       "    </tr>\n",
       "  </thead>\n",
       "  <tbody>\n",
       "    <tr>\n",
       "      <th>아이필름코퍼레이션</th>\n",
       "      <td>3117859.0</td>\n",
       "    </tr>\n",
       "    <tr>\n",
       "      <th>영구아트무비</th>\n",
       "      <td>2541603.0</td>\n",
       "    </tr>\n",
       "    <tr>\n",
       "      <th>쇼박스</th>\n",
       "      <td>2138560.0</td>\n",
       "    </tr>\n",
       "    <tr>\n",
       "      <th>이십세기폭스코리아</th>\n",
       "      <td>1422844.0</td>\n",
       "    </tr>\n",
       "    <tr>\n",
       "      <th>전망좋은영화사</th>\n",
       "      <td>1214237.0</td>\n",
       "    </tr>\n",
       "    <tr>\n",
       "      <th>...</th>\n",
       "      <td>...</td>\n",
       "    </tr>\n",
       "    <tr>\n",
       "      <th>나우콘텐츠</th>\n",
       "      <td>54.0</td>\n",
       "    </tr>\n",
       "    <tr>\n",
       "      <th>위드시네마</th>\n",
       "      <td>46.0</td>\n",
       "    </tr>\n",
       "    <tr>\n",
       "      <th>사람과사람들</th>\n",
       "      <td>42.0</td>\n",
       "    </tr>\n",
       "    <tr>\n",
       "      <th>고구마공작소</th>\n",
       "      <td>8.0</td>\n",
       "    </tr>\n",
       "    <tr>\n",
       "      <th>인피니티엔터테인먼트</th>\n",
       "      <td>2.0</td>\n",
       "    </tr>\n",
       "  </tbody>\n",
       "</table>\n",
       "<p>147 rows × 1 columns</p>\n",
       "</div>"
      ],
      "text/plain": [
       "             box_off_num\n",
       "distributor             \n",
       "아이필름코퍼레이션      3117859.0\n",
       "영구아트무비         2541603.0\n",
       "쇼박스            2138560.0\n",
       "이십세기폭스코리아      1422844.0\n",
       "전망좋은영화사        1214237.0\n",
       "...                  ...\n",
       "나우콘텐츠               54.0\n",
       "위드시네마               46.0\n",
       "사람과사람들              42.0\n",
       "고구마공작소               8.0\n",
       "인피니티엔터테인먼트           2.0\n",
       "\n",
       "[147 rows x 1 columns]"
      ]
     },
     "execution_count": 20,
     "metadata": {},
     "output_type": "execute_result"
    }
   ],
   "source": [
    "box_off_num_by_distributor = box_off_num_by_distributor.to_frame().\\\n",
    "sort_values('box_off_num', ascending = False)\n",
    "box_off_num_by_distributor"
   ]
  },
  {
   "cell_type": "code",
   "execution_count": 21,
   "metadata": {
    "ExecuteTime": {
     "end_time": "2022-05-22T11:23:34.875617Z",
     "start_time": "2022-05-22T11:23:34.863619Z"
    }
   },
   "outputs": [
    {
     "data": {
      "text/plain": [
       "distributor\n",
       "아이필름코퍼레이션     147\n",
       "영구아트무비        146\n",
       "쇼박스           145\n",
       "이십세기폭스코리아     144\n",
       "전망좋은영화사       143\n",
       "             ... \n",
       "나우콘텐츠           5\n",
       "위드시네마           4\n",
       "사람과사람들          3\n",
       "고구마공작소          2\n",
       "인피니티엔터테인먼트      1\n",
       "Name: box_off_num, Length: 147, dtype: int32"
      ]
     },
     "execution_count": 21,
     "metadata": {},
     "output_type": "execute_result"
    }
   ],
   "source": [
    "dist_rank = box_off_num_by_distributor['box_off_num'].rank().astype(int)\n",
    "dist_rank"
   ]
  },
  {
   "cell_type": "code",
   "execution_count": 22,
   "metadata": {
    "ExecuteTime": {
     "end_time": "2022-05-22T11:23:34.905627Z",
     "start_time": "2022-05-22T11:23:34.876584Z"
    },
    "scrolled": true
   },
   "outputs": [],
   "source": [
    "data['dist_rank'] = [dist_rank[s].astype(int) if s in dist_rank else 0 for s in data['distributor']]\n",
    "data.drop('distributor', axis = 1, inplace = True)\n",
    "\n",
    "test['dist_rank'] = [dist_rank[s].astype(int) if s in dist_rank else 0 for s in test['distributor']]\n",
    "test.drop('distributor', axis = 1, inplace = True)"
   ]
  },
  {
   "cell_type": "markdown",
   "metadata": {},
   "source": [
    "## 장르"
   ]
  },
  {
   "cell_type": "code",
   "execution_count": 23,
   "metadata": {
    "ExecuteTime": {
     "end_time": "2022-05-22T11:23:34.935517Z",
     "start_time": "2022-05-22T11:23:34.912585Z"
    },
    "scrolled": true
   },
   "outputs": [
    {
     "data": {
      "text/plain": [
       "genre\n",
       "SF        1.788346e+06\n",
       "공포        5.908325e+05\n",
       "느와르       2.263695e+06\n",
       "다큐멘터리     6.717226e+04\n",
       "드라마       6.256898e+05\n",
       "멜로/로맨스    4.259680e+05\n",
       "뮤지컬       6.627000e+03\n",
       "미스터리      5.275482e+05\n",
       "서스펜스      8.261100e+04\n",
       "애니메이션     1.819267e+05\n",
       "액션        2.203974e+06\n",
       "코미디       1.193914e+06\n",
       "Name: box_off_num, dtype: float64"
      ]
     },
     "execution_count": 23,
     "metadata": {},
     "output_type": "execute_result"
    }
   ],
   "source": [
    "data.groupby('genre')['box_off_num'].mean()"
   ]
  },
  {
   "cell_type": "code",
   "execution_count": 24,
   "metadata": {
    "ExecuteTime": {
     "end_time": "2022-05-22T11:23:35.234626Z",
     "start_time": "2022-05-22T11:23:34.938418Z"
    },
    "scrolled": true
   },
   "outputs": [
    {
     "data": {
      "text/plain": [
       "<AxesSubplot:xlabel='genre', ylabel='box_off_num'>"
      ]
     },
     "execution_count": 24,
     "metadata": {},
     "output_type": "execute_result"
    },
    {
     "data": {
      "image/png": "[encoded data removed]",
      "text/plain": [
       "<Figure size 1440x360 with 1 Axes>"
      ]
     },
     "metadata": {
      "needs_background": "light"
     },
     "output_type": "display_data"
    }
   ],
   "source": [
    "# 장르 \n",
    "num_by_genre = data.groupby(['genre'])['box_off_num'].mean().\\\n",
    "to_frame().sort_values(by = 'box_off_num', ascending = False)\n",
    "sns.barplot(x = num_by_genre.index, y = 'box_off_num',\n",
    "            data = num_by_genre, palette = 'Reds_r')"
   ]
  },
  {
   "cell_type": "code",
   "execution_count": 25,
   "metadata": {
    "ExecuteTime": {
     "end_time": "2022-05-22T11:23:35.249658Z",
     "start_time": "2022-05-22T11:23:35.236622Z"
    },
    "scrolled": true
   },
   "outputs": [
    {
     "data": {
      "text/html": [
       "<div>\n",
       "<style scoped>\n",
       "    .dataframe tbody tr th:only-of-type {\n",
       "        vertical-align: middle;\n",
       "    }\n",
       "\n",
       "    .dataframe tbody tr th {\n",
       "        vertical-align: top;\n",
       "    }\n",
       "\n",
       "    .dataframe thead th {\n",
       "        text-align: right;\n",
       "    }\n",
       "</style>\n",
       "<table border=\"1\" class=\"dataframe\">\n",
       "  <thead>\n",
       "    <tr style=\"text-align: right;\">\n",
       "      <th></th>\n",
       "      <th>box_off_num</th>\n",
       "      <th>genre_rank</th>\n",
       "    </tr>\n",
       "    <tr>\n",
       "      <th>genre</th>\n",
       "      <th></th>\n",
       "      <th></th>\n",
       "    </tr>\n",
       "  </thead>\n",
       "  <tbody>\n",
       "    <tr>\n",
       "      <th>느와르</th>\n",
       "      <td>2.263695e+06</td>\n",
       "      <td>12</td>\n",
       "    </tr>\n",
       "    <tr>\n",
       "      <th>액션</th>\n",
       "      <td>2.203974e+06</td>\n",
       "      <td>11</td>\n",
       "    </tr>\n",
       "    <tr>\n",
       "      <th>SF</th>\n",
       "      <td>1.788346e+06</td>\n",
       "      <td>10</td>\n",
       "    </tr>\n",
       "    <tr>\n",
       "      <th>코미디</th>\n",
       "      <td>1.193914e+06</td>\n",
       "      <td>9</td>\n",
       "    </tr>\n",
       "    <tr>\n",
       "      <th>드라마</th>\n",
       "      <td>6.256898e+05</td>\n",
       "      <td>8</td>\n",
       "    </tr>\n",
       "    <tr>\n",
       "      <th>공포</th>\n",
       "      <td>5.908325e+05</td>\n",
       "      <td>7</td>\n",
       "    </tr>\n",
       "    <tr>\n",
       "      <th>미스터리</th>\n",
       "      <td>5.275482e+05</td>\n",
       "      <td>6</td>\n",
       "    </tr>\n",
       "    <tr>\n",
       "      <th>멜로/로맨스</th>\n",
       "      <td>4.259680e+05</td>\n",
       "      <td>5</td>\n",
       "    </tr>\n",
       "    <tr>\n",
       "      <th>애니메이션</th>\n",
       "      <td>1.819267e+05</td>\n",
       "      <td>4</td>\n",
       "    </tr>\n",
       "    <tr>\n",
       "      <th>서스펜스</th>\n",
       "      <td>8.261100e+04</td>\n",
       "      <td>3</td>\n",
       "    </tr>\n",
       "    <tr>\n",
       "      <th>다큐멘터리</th>\n",
       "      <td>6.717226e+04</td>\n",
       "      <td>2</td>\n",
       "    </tr>\n",
       "    <tr>\n",
       "      <th>뮤지컬</th>\n",
       "      <td>6.627000e+03</td>\n",
       "      <td>1</td>\n",
       "    </tr>\n",
       "  </tbody>\n",
       "</table>\n",
       "</div>"
      ],
      "text/plain": [
       "         box_off_num  genre_rank\n",
       "genre                           \n",
       "느와르     2.263695e+06          12\n",
       "액션      2.203974e+06          11\n",
       "SF      1.788346e+06          10\n",
       "코미디     1.193914e+06           9\n",
       "드라마     6.256898e+05           8\n",
       "공포      5.908325e+05           7\n",
       "미스터리    5.275482e+05           6\n",
       "멜로/로맨스  4.259680e+05           5\n",
       "애니메이션   1.819267e+05           4\n",
       "서스펜스    8.261100e+04           3\n",
       "다큐멘터리   6.717226e+04           2\n",
       "뮤지컬     6.627000e+03           1"
      ]
     },
     "execution_count": 25,
     "metadata": {},
     "output_type": "execute_result"
    }
   ],
   "source": [
    "num_by_genre['genre_rank'] = num_by_genre['box_off_num'].rank().astype(int)\n",
    "num_by_genre"
   ]
  },
  {
   "cell_type": "code",
   "execution_count": 26,
   "metadata": {
    "ExecuteTime": {
     "end_time": "2022-05-22T11:23:35.339346Z",
     "start_time": "2022-05-22T11:23:35.251583Z"
    }
   },
   "outputs": [],
   "source": [
    "data['genre_rank'] = [num_by_genre.loc[gen]['genre_rank'].astype(int) for gen in data['genre']]\n",
    "test['genre_rank'] = [num_by_genre.loc[gen]['genre_rank'].astype(int) for gen in test['genre']]"
   ]
  },
  {
   "cell_type": "code",
   "execution_count": 27,
   "metadata": {
    "ExecuteTime": {
     "end_time": "2022-05-22T11:23:35.354307Z",
     "start_time": "2022-05-22T11:23:35.341340Z"
    }
   },
   "outputs": [],
   "source": [
    "data.drop('genre', axis = 1, inplace = True)\n",
    "test.drop('genre', axis = 1, inplace = True)"
   ]
  },
  {
   "cell_type": "markdown",
   "metadata": {},
   "source": [
    "## 상영시간"
   ]
  },
  {
   "cell_type": "code",
   "execution_count": 28,
   "metadata": {
    "ExecuteTime": {
     "end_time": "2022-05-22T11:23:35.653943Z",
     "start_time": "2022-05-22T11:23:35.357298Z"
    },
    "scrolled": false
   },
   "outputs": [
    {
     "data": {
      "image/png": "[encoded data removed]",
      "text/plain": [
       "<Figure size 432x432 with 1 Axes>"
      ]
     },
     "metadata": {
      "needs_background": "light"
     },
     "output_type": "display_data"
    }
   ],
   "source": [
    "plt.figure(figsize = (6,6))\n",
    "sns.scatterplot(x = 'time', y = 'box_off_num', data = data)\n",
    "plt.show()"
   ]
  },
  {
   "cell_type": "markdown",
   "metadata": {},
   "source": [
    "## 개봉일"
   ]
  },
  {
   "cell_type": "code",
   "execution_count": 29,
   "metadata": {
    "ExecuteTime": {
     "end_time": "2022-05-22T11:23:36.043032Z",
     "start_time": "2022-05-22T11:23:35.655815Z"
    }
   },
   "outputs": [
    {
     "data": {
      "text/plain": [
       "<AxesSubplot:xlabel='year', ylabel='box_off_num'>"
      ]
     },
     "execution_count": 29,
     "metadata": {},
     "output_type": "execute_result"
    },
    {
     "data": {
      "image/png": "[encoded data removed]",
      "text/plain": [
       "<Figure size 1440x360 with 1 Axes>"
      ]
     },
     "metadata": {
      "needs_background": "light"
     },
     "output_type": "display_data"
    }
   ],
   "source": [
    "sns.barplot(x = 'year', y = 'box_off_num', data = data)"
   ]
  },
  {
   "cell_type": "code",
   "execution_count": 30,
   "metadata": {
    "ExecuteTime": {
     "end_time": "2022-05-22T11:23:36.582698Z",
     "start_time": "2022-05-22T11:23:36.045027Z"
    },
    "scrolled": true
   },
   "outputs": [
    {
     "data": {
      "text/plain": [
       "<AxesSubplot:xlabel='month', ylabel='box_off_num'>"
      ]
     },
     "execution_count": 30,
     "metadata": {},
     "output_type": "execute_result"
    },
    {
     "data": {
      "image/png": "[encoded data removed]",
      "text/plain": [
       "<Figure size 1440x360 with 1 Axes>"
      ]
     },
     "metadata": {
      "needs_background": "light"
     },
     "output_type": "display_data"
    }
   ],
   "source": [
    "sns.barplot(x = 'month', y = 'box_off_num', data = data)"
   ]
  },
  {
   "cell_type": "code",
   "execution_count": 31,
   "metadata": {
    "ExecuteTime": {
     "end_time": "2022-05-22T11:23:36.597636Z",
     "start_time": "2022-05-22T11:23:36.584584Z"
    }
   },
   "outputs": [],
   "source": [
    "data['vacation'] = [1 if s in [1., 7., 8., 12.] else 0 for s in data['month']]\n",
    "test['vacation'] = [1 if s in [1., 7., 8., 12.] else 0 for s in test['month']]"
   ]
  },
  {
   "cell_type": "code",
   "execution_count": 32,
   "metadata": {
    "ExecuteTime": {
     "end_time": "2022-05-22T11:23:36.612512Z",
     "start_time": "2022-05-22T11:23:36.599544Z"
    }
   },
   "outputs": [],
   "source": [
    "data.drop(['day'], axis = 1, inplace = True)\n",
    "test.drop(['day'], axis = 1, inplace = True)"
   ]
  },
  {
   "cell_type": "markdown",
   "metadata": {},
   "source": [
    "## 상영등급"
   ]
  },
  {
   "cell_type": "code",
   "execution_count": 33,
   "metadata": {
    "ExecuteTime": {
     "end_time": "2022-05-22T11:23:36.971550Z",
     "start_time": "2022-05-22T11:23:36.614569Z"
    }
   },
   "outputs": [
    {
     "data": {
      "text/plain": [
       "<AxesSubplot:xlabel='box_off_num', ylabel='Density'>"
      ]
     },
     "execution_count": 33,
     "metadata": {},
     "output_type": "execute_result"
    },
    {
     "data": {
      "image/png": "[encoded data removed]",
      "text/plain": [
       "<Figure size 1440x360 with 1 Axes>"
      ]
     },
     "metadata": {
      "needs_background": "light"
     },
     "output_type": "display_data"
    }
   ],
   "source": [
    "sns.kdeplot(x = 'box_off_num', hue = 'screening_rat',\n",
    "            shade = True, data = data)"
   ]
  },
  {
   "cell_type": "markdown",
   "metadata": {},
   "source": [
    "## 감독이름"
   ]
  },
  {
   "cell_type": "code",
   "execution_count": 34,
   "metadata": {
    "ExecuteTime": {
     "end_time": "2022-05-22T11:23:36.986512Z",
     "start_time": "2022-05-22T11:23:36.973545Z"
    }
   },
   "outputs": [],
   "source": [
    "director_over_50K = data.groupby(['director'])['dir_prev_bfnum'].mean() >= 10000\n",
    "director_over_50K = director_over_50K[director_over_50K == True].index"
   ]
  },
  {
   "cell_type": "code",
   "execution_count": 35,
   "metadata": {
    "ExecuteTime": {
     "end_time": "2022-05-22T11:23:37.001472Z",
     "start_time": "2022-05-22T11:23:36.989497Z"
    },
    "scrolled": true
   },
   "outputs": [
    {
     "data": {
      "text/plain": [
       "Index(['강우석', '강형철', '강효진', '경순', '계윤식', '고구마', '곽경택', '구자홍', '국동석', '권칠인',\n",
       "       ...\n",
       "       '한재림', '한종훈', '한준희', '허종호', '홍석재', '홍원찬', '홍지영', '황동혁', '황유식', '황인호'],\n",
       "      dtype='object', name='director', length=172)"
      ]
     },
     "execution_count": 35,
     "metadata": {},
     "output_type": "execute_result"
    }
   ],
   "source": [
    "director_over_50K"
   ]
  },
  {
   "cell_type": "code",
   "execution_count": 36,
   "metadata": {
    "ExecuteTime": {
     "end_time": "2022-05-22T11:23:37.016432Z",
     "start_time": "2022-05-22T11:23:37.003465Z"
    }
   },
   "outputs": [],
   "source": [
    "data['director_over_50K'] = [1 if s in director_over_50K else 0 for s in data['director']]\n",
    "test['director_over_50K'] = [1 if s in director_over_50K else 0 for s in test['director']]"
   ]
  },
  {
   "cell_type": "code",
   "execution_count": 37,
   "metadata": {
    "ExecuteTime": {
     "end_time": "2022-05-22T11:23:37.285712Z",
     "start_time": "2022-05-22T11:23:37.019422Z"
    }
   },
   "outputs": [
    {
     "data": {
      "image/png": "[encoded data removed]",
      "text/plain": [
       "<Figure size 432x432 with 1 Axes>"
      ]
     },
     "metadata": {
      "needs_background": "light"
     },
     "output_type": "display_data"
    }
   ],
   "source": [
    "plt.figure(figsize = (6, 6))\n",
    "sns.barplot(x = 'director_over_50K', y = 'box_off_num', data = data)\n",
    "plt.show()"
   ]
  },
  {
   "cell_type": "code",
   "execution_count": 38,
   "metadata": {
    "ExecuteTime": {
     "end_time": "2022-05-22T11:23:38.018635Z",
     "start_time": "2022-05-22T11:23:37.287706Z"
    }
   },
   "outputs": [
    {
     "data": {
      "text/plain": [
       "<AxesSubplot:xlabel='box_off_num', ylabel='Density'>"
      ]
     },
     "execution_count": 38,
     "metadata": {},
     "output_type": "execute_result"
    },
    {
     "data": {
      "image/png": "[encoded data removed]",
      "text/plain": [
       "<Figure size 1440x360 with 1 Axes>"
      ]
     },
     "metadata": {
      "needs_background": "light"
     },
     "output_type": "display_data"
    }
   ],
   "source": [
    "sns.kdeplot(x = 'box_off_num', hue = 'director_over_50K', data = data)"
   ]
  },
  {
   "cell_type": "markdown",
   "metadata": {},
   "source": [
    "등분산성에 대한 귀무가설 기각 "
   ]
  },
  {
   "cell_type": "code",
   "execution_count": 39,
   "metadata": {
    "ExecuteTime": {
     "end_time": "2022-05-22T11:23:38.033565Z",
     "start_time": "2022-05-22T11:23:38.020601Z"
    }
   },
   "outputs": [
    {
     "data": {
      "text/plain": [
       "BartlettResult(statistic=91.40480895566843, pvalue=1.1709155464675876e-21)"
      ]
     },
     "execution_count": 39,
     "metadata": {},
     "output_type": "execute_result"
    }
   ],
   "source": [
    "from scipy.stats import bartlett\n",
    "bartlett(data[data['director_over_50K'] == 0]['box_off_num'],\n",
    "         data[data['director_over_50K'] == 1]['box_off_num'])"
   ]
  },
  {
   "cell_type": "code",
   "execution_count": 40,
   "metadata": {
    "ExecuteTime": {
     "end_time": "2022-05-22T11:23:38.048702Z",
     "start_time": "2022-05-22T11:23:38.035559Z"
    }
   },
   "outputs": [
    {
     "data": {
      "text/plain": [
       "Ttest_indResult(statistic=-5.928233317511703, pvalue=8.080688384463698e-09)"
      ]
     },
     "execution_count": 40,
     "metadata": {},
     "output_type": "execute_result"
    }
   ],
   "source": [
    "from scipy.stats import ttest_ind\n",
    "ttest_ind(data[data['director_over_50K'] == 0]['box_off_num'],\n",
    "         data[data['director_over_50K'] == 1]['box_off_num'],\n",
    "         equal_var = False)"
   ]
  },
  {
   "cell_type": "markdown",
   "metadata": {},
   "source": [
    "2번 이상 영화를 개봉한 감독과 1번 개봉한 감독의 관객 수에는 유의한 차이가 있음 "
   ]
  },
  {
   "cell_type": "code",
   "execution_count": 41,
   "metadata": {
    "ExecuteTime": {
     "end_time": "2022-05-22T11:23:38.063485Z",
     "start_time": "2022-05-22T11:23:38.050803Z"
    }
   },
   "outputs": [],
   "source": [
    "director_over_2times = data['director'].value_counts() >= 2\n",
    "director_over_2times = director_over_2times[director_over_2times == True].index"
   ]
  },
  {
   "cell_type": "code",
   "execution_count": 42,
   "metadata": {
    "ExecuteTime": {
     "end_time": "2022-05-22T11:23:38.078526Z",
     "start_time": "2022-05-22T11:23:38.065481Z"
    }
   },
   "outputs": [],
   "source": [
    "data['director_over_2times'] = [1 if s in director_over_2times else 0 for s in data['director']]\n",
    "test['director_over_2times'] = [1 if s in director_over_2times else 0 for s in test['director']]"
   ]
  },
  {
   "cell_type": "code",
   "execution_count": 43,
   "metadata": {
    "ExecuteTime": {
     "end_time": "2022-05-22T11:23:38.093460Z",
     "start_time": "2022-05-22T11:23:38.080438Z"
    },
    "scrolled": false
   },
   "outputs": [
    {
     "data": {
      "text/plain": [
       "BartlettResult(statistic=25.117796344218554, pvalue=5.393282290878355e-07)"
      ]
     },
     "execution_count": 43,
     "metadata": {},
     "output_type": "execute_result"
    }
   ],
   "source": [
    "from scipy.stats import bartlett\n",
    "bartlett(data[data['director_over_2times'] == 0]['box_off_num'],\n",
    "         data[data['director_over_2times'] == 1]['box_off_num'])"
   ]
  },
  {
   "cell_type": "code",
   "execution_count": 44,
   "metadata": {
    "ExecuteTime": {
     "end_time": "2022-05-22T11:23:38.108555Z",
     "start_time": "2022-05-22T11:23:38.095401Z"
    }
   },
   "outputs": [
    {
     "data": {
      "text/plain": [
       "Ttest_indResult(statistic=-2.1129115361985686, pvalue=0.03526281816283866)"
      ]
     },
     "execution_count": 44,
     "metadata": {},
     "output_type": "execute_result"
    }
   ],
   "source": [
    "from scipy.stats import ttest_ind\n",
    "ttest_ind(data[data['director_over_2times'] == 0]['box_off_num'],\n",
    "         data[data['director_over_2times'] == 1]['box_off_num'],\n",
    "         equal_var = False)"
   ]
  },
  {
   "cell_type": "code",
   "execution_count": 45,
   "metadata": {
    "ExecuteTime": {
     "end_time": "2022-05-22T11:23:38.602109Z",
     "start_time": "2022-05-22T11:23:38.111357Z"
    }
   },
   "outputs": [
    {
     "data": {
      "text/plain": [
       "<AxesSubplot:xlabel='box_off_num', ylabel='Density'>"
      ]
     },
     "execution_count": 45,
     "metadata": {},
     "output_type": "execute_result"
    },
    {
     "data": {
      "image/png": "[encoded data removed]",
      "text/plain": [
       "<Figure size 1440x360 with 1 Axes>"
      ]
     },
     "metadata": {
      "needs_background": "light"
     },
     "output_type": "display_data"
    }
   ],
   "source": [
    "sns.kdeplot(x = 'box_off_num', hue = 'director_over_2times', data = data)"
   ]
  },
  {
   "cell_type": "markdown",
   "metadata": {},
   "source": [
    "## 해당 감독의 이전 영화 수 & 평균 관객 수 "
   ]
  },
  {
   "cell_type": "code",
   "execution_count": 46,
   "metadata": {
    "ExecuteTime": {
     "end_time": "2022-05-22T11:23:38.811521Z",
     "start_time": "2022-05-22T11:23:38.604077Z"
    }
   },
   "outputs": [
    {
     "data": {
      "image/png": "[encoded data removed]",
      "text/plain": [
       "<Figure size 432x432 with 1 Axes>"
      ]
     },
     "metadata": {
      "needs_background": "light"
     },
     "output_type": "display_data"
    }
   ],
   "source": [
    "plt.figure(figsize = (6,6))\n",
    "sns.scatterplot(x = 'dir_prev_bfnum', y = 'box_off_num', data = data)\n",
    "plt.show()"
   ]
  },
  {
   "cell_type": "code",
   "execution_count": 47,
   "metadata": {
    "ExecuteTime": {
     "end_time": "2022-05-22T11:23:39.304980Z",
     "start_time": "2022-05-22T11:23:38.813515Z"
    }
   },
   "outputs": [
    {
     "data": {
      "image/png": "[encoded data removed]",
      "text/plain": [
       "<Figure size 864x432 with 4 Axes>"
      ]
     },
     "metadata": {
      "needs_background": "light"
     },
     "output_type": "display_data"
    }
   ],
   "source": [
    "fig, ax = plt.subplots(1, 2, figsize = (12, 6))\n",
    "sns.heatmap(data[['box_off_num', 'dir_prev_bfnum']].corr(), annot = True, ax = ax[0])\n",
    "sns.heatmap(data[['box_off_num', 'dir_prev_num']].corr(), annot = True, ax = ax[1])\n",
    "plt.show()"
   ]
  },
  {
   "cell_type": "code",
   "execution_count": 48,
   "metadata": {
    "ExecuteTime": {
     "end_time": "2022-05-22T11:23:39.320163Z",
     "start_time": "2022-05-22T11:23:39.307196Z"
    }
   },
   "outputs": [],
   "source": [
    "data['dir_prev_bfnum_log'] = np.log1p(data['dir_prev_bfnum'])\n",
    "test['dir_prev_bfnum_log'] = np.log1p(test['dir_prev_bfnum'])"
   ]
  },
  {
   "cell_type": "code",
   "execution_count": 49,
   "metadata": {
    "ExecuteTime": {
     "end_time": "2022-05-22T11:23:39.574481Z",
     "start_time": "2022-05-22T11:23:39.322156Z"
    }
   },
   "outputs": [
    {
     "data": {
      "image/png": "[encoded data removed]",
      "text/plain": [
       "<Figure size 432x432 with 2 Axes>"
      ]
     },
     "metadata": {
      "needs_background": "light"
     },
     "output_type": "display_data"
    }
   ],
   "source": [
    "plt.figure(figsize = (6, 6))\n",
    "sns.heatmap(data[['box_off_num', 'dir_prev_bfnum_log']].corr(), annot = True)\n",
    "plt.show()"
   ]
  },
  {
   "cell_type": "markdown",
   "metadata": {},
   "source": [
    "## 스탭 수"
   ]
  },
  {
   "cell_type": "code",
   "execution_count": 50,
   "metadata": {
    "ExecuteTime": {
     "end_time": "2022-05-22T11:23:39.768993Z",
     "start_time": "2022-05-22T11:23:39.576476Z"
    }
   },
   "outputs": [
    {
     "data": {
      "text/plain": [
       "<AxesSubplot:xlabel='num_staff', ylabel='Count'>"
      ]
     },
     "execution_count": 50,
     "metadata": {},
     "output_type": "execute_result"
    },
    {
     "data": {
      "image/png": "[encoded data removed]",
      "text/plain": [
       "<Figure size 1440x360 with 1 Axes>"
      ]
     },
     "metadata": {
      "needs_background": "light"
     },
     "output_type": "display_data"
    }
   ],
   "source": [
    "sns.histplot(x = 'num_staff', data = data)"
   ]
  },
  {
   "cell_type": "code",
   "execution_count": 51,
   "metadata": {
    "ExecuteTime": {
     "end_time": "2022-05-22T11:23:39.783923Z",
     "start_time": "2022-05-22T11:23:39.770956Z"
    }
   },
   "outputs": [],
   "source": [
    "data['num_staff'] = np.log1p(data['num_staff'])\n",
    "test['num_staff'] = np.log1p(test['num_staff'])"
   ]
  },
  {
   "cell_type": "code",
   "execution_count": 52,
   "metadata": {
    "ExecuteTime": {
     "end_time": "2022-05-22T11:23:40.038347Z",
     "start_time": "2022-05-22T11:23:39.786914Z"
    }
   },
   "outputs": [
    {
     "data": {
      "text/plain": [
       "<AxesSubplot:xlabel='num_staff', ylabel='Count'>"
      ]
     },
     "execution_count": 52,
     "metadata": {},
     "output_type": "execute_result"
    },
    {
     "data": {
      "image/png": "[encoded data removed]",
      "text/plain": [
       "<Figure size 1440x360 with 1 Axes>"
      ]
     },
     "metadata": {
      "needs_background": "light"
     },
     "output_type": "display_data"
    }
   ],
   "source": [
    "sns.histplot(x = 'num_staff', data = data)"
   ]
  },
  {
   "cell_type": "code",
   "execution_count": 53,
   "metadata": {
    "ExecuteTime": {
     "end_time": "2022-05-22T11:23:40.263684Z",
     "start_time": "2022-05-22T11:23:40.040281Z"
    }
   },
   "outputs": [
    {
     "data": {
      "image/png": "[encoded data removed]",
      "text/plain": [
       "<Figure size 432x432 with 2 Axes>"
      ]
     },
     "metadata": {
      "needs_background": "light"
     },
     "output_type": "display_data"
    }
   ],
   "source": [
    "plt.figure(figsize = (6, 6))\n",
    "sns.heatmap(data[['box_off_num', 'num_staff']].corr(), annot = True)\n",
    "plt.show()"
   ]
  },
  {
   "cell_type": "markdown",
   "metadata": {},
   "source": [
    "스탭 수가 많아질수록 제작비가 높은 영화이기 때문에 관객 수가 많아질 것 "
   ]
  },
  {
   "cell_type": "markdown",
   "metadata": {},
   "source": [
    "## 배우 수 "
   ]
  },
  {
   "cell_type": "code",
   "execution_count": 54,
   "metadata": {
    "ExecuteTime": {
     "end_time": "2022-05-22T11:23:40.607762Z",
     "start_time": "2022-05-22T11:23:40.265677Z"
    }
   },
   "outputs": [
    {
     "data": {
      "text/plain": [
       "<AxesSubplot:xlabel='num_actor', ylabel='Count'>"
      ]
     },
     "execution_count": 54,
     "metadata": {},
     "output_type": "execute_result"
    },
    {
     "data": {
      "image/png": "[encoded data removed]",
      "text/plain": [
       "<Figure size 1440x360 with 1 Axes>"
      ]
     },
     "metadata": {
      "needs_background": "light"
     },
     "output_type": "display_data"
    }
   ],
   "source": [
    "sns.histplot(x = 'num_actor', data = data)"
   ]
  },
  {
   "cell_type": "code",
   "execution_count": 55,
   "metadata": {
    "ExecuteTime": {
     "end_time": "2022-05-22T11:23:40.847155Z",
     "start_time": "2022-05-22T11:23:40.609758Z"
    },
    "scrolled": true
   },
   "outputs": [
    {
     "data": {
      "image/png": "[encoded data removed]",
      "text/plain": [
       "<Figure size 432x432 with 2 Axes>"
      ]
     },
     "metadata": {
      "needs_background": "light"
     },
     "output_type": "display_data"
    }
   ],
   "source": [
    "plt.figure(figsize = (6, 6))\n",
    "sns.heatmap(data[['box_off_num', 'num_actor']].corr(), annot = True)\n",
    "plt.show()"
   ]
  },
  {
   "cell_type": "code",
   "execution_count": 56,
   "metadata": {
    "ExecuteTime": {
     "end_time": "2022-05-22T11:23:41.116699Z",
     "start_time": "2022-05-22T11:23:40.849118Z"
    }
   },
   "outputs": [
    {
     "data": {
      "text/plain": [
       "<AxesSubplot:xlabel='num_actor', ylabel='box_off_num'>"
      ]
     },
     "execution_count": 56,
     "metadata": {},
     "output_type": "execute_result"
    },
    {
     "data": {
      "image/png": "[encoded data removed]",
      "text/plain": [
       "<Figure size 432x432 with 1 Axes>"
      ]
     },
     "metadata": {
      "needs_background": "light"
     },
     "output_type": "display_data"
    }
   ],
   "source": [
    "plt.figure(figsize = (6, 6))\n",
    "sns.scatterplot(x = 'num_actor', y = 'box_off_num', data = data)"
   ]
  },
  {
   "cell_type": "markdown",
   "metadata": {},
   "source": [
    "# train/test split"
   ]
  },
  {
   "cell_type": "code",
   "execution_count": 57,
   "metadata": {
    "ExecuteTime": {
     "end_time": "2022-05-22T11:23:41.131642Z",
     "start_time": "2022-05-22T11:23:41.119561Z"
    }
   },
   "outputs": [],
   "source": [
    "y_train = data['box_off_num']\n",
    "select_features = ['dist_rank', 'time', 'num_staff', 'num_actor', \n",
    "                   'genre_rank', 'screening_rat']\n",
    "X_train = data[select_features]\n",
    "test = test[select_features]"
   ]
  },
  {
   "cell_type": "code",
   "execution_count": 58,
   "metadata": {
    "ExecuteTime": {
     "end_time": "2022-05-22T11:23:41.146523Z",
     "start_time": "2022-05-22T11:23:41.134525Z"
    },
    "scrolled": true
   },
   "outputs": [],
   "source": [
    "X_train = pd.get_dummies(columns =['screening_rat'], data = X_train)\n",
    "test = pd.get_dummies(columns =[ 'screening_rat'], data = test)"
   ]
  },
  {
   "cell_type": "code",
   "execution_count": 59,
   "metadata": {
    "ExecuteTime": {
     "end_time": "2022-05-22T11:23:41.566485Z",
     "start_time": "2022-05-22T11:23:41.148485Z"
    }
   },
   "outputs": [
    {
     "data": {
      "text/plain": [
       "<AxesSubplot:xlabel='box_off_num', ylabel='Count'>"
      ]
     },
     "execution_count": 59,
     "metadata": {},
     "output_type": "execute_result"
    },
    {
     "data": {
      "image/png": "[encoded data removed]",
      "text/plain": [
       "<Figure size 1440x360 with 1 Axes>"
      ]
     },
     "metadata": {
      "needs_background": "light"
     },
     "output_type": "display_data"
    }
   ],
   "source": [
    "sns.histplot(y_train)"
   ]
  },
  {
   "cell_type": "code",
   "execution_count": 60,
   "metadata": {
    "ExecuteTime": {
     "end_time": "2022-05-22T11:23:41.581396Z",
     "start_time": "2022-05-22T11:23:41.568362Z"
    }
   },
   "outputs": [],
   "source": [
    "y_train = np.log1p(y_train)"
   ]
  },
  {
   "cell_type": "code",
   "execution_count": 61,
   "metadata": {
    "ExecuteTime": {
     "end_time": "2022-05-22T11:23:41.820813Z",
     "start_time": "2022-05-22T11:23:41.583324Z"
    }
   },
   "outputs": [
    {
     "data": {
      "text/plain": [
       "<AxesSubplot:xlabel='box_off_num', ylabel='Count'>"
      ]
     },
     "execution_count": 61,
     "metadata": {},
     "output_type": "execute_result"
    },
    {
     "data": {
      "image/png": "[encoded data removed]",
      "text/plain": [
       "<Figure size 1440x360 with 1 Axes>"
      ]
     },
     "metadata": {
      "needs_background": "light"
     },
     "output_type": "display_data"
    }
   ],
   "source": [
    "sns.histplot(y_train)"
   ]
  },
  {
   "cell_type": "markdown",
   "metadata": {},
   "source": [
    "# model"
   ]
  },
  {
   "cell_type": "code",
   "execution_count": 62,
   "metadata": {
    "ExecuteTime": {
     "end_time": "2022-05-22T11:23:47.615885Z",
     "start_time": "2022-05-22T11:23:41.822682Z"
    }
   },
   "outputs": [],
   "source": [
    "from sklearn.ensemble import GradientBoostingRegressor, RandomForestRegressor\n",
    "from xgboost import XGBRegressor\n",
    "from lightgbm import LGBMRegressor\n",
    "from catboost import CatBoostRegressor\n",
    "from sklearn.metrics import mean_squared_error\n",
    "from sklearn.model_selection import KFold"
   ]
  },
  {
   "cell_type": "code",
   "execution_count": 63,
   "metadata": {
    "ExecuteTime": {
     "end_time": "2022-05-22T11:23:47.631235Z",
     "start_time": "2022-05-22T11:23:47.616805Z"
    }
   },
   "outputs": [],
   "source": [
    "kf = KFold(n_splits =  10, shuffle = True, random_state = 42)"
   ]
  },
  {
   "cell_type": "markdown",
   "metadata": {},
   "source": [
    "## Gradient Boosting Regressor"
   ]
  },
  {
   "cell_type": "code",
   "execution_count": 64,
   "metadata": {
    "ExecuteTime": {
     "end_time": "2022-05-22T11:23:48.408984Z",
     "start_time": "2022-05-22T11:23:47.633197Z"
    }
   },
   "outputs": [],
   "source": [
    "gbm = GradientBoostingRegressor(random_state = 0)\n",
    "rmse_list = []\n",
    "gbm_preds = np.zeros((test.shape[0]))\n",
    "for tr_idx, val_idx in kf.split(X_train, y_train) :\n",
    "    tr_x, tr_y = X_train.iloc[tr_idx], y_train.iloc[tr_idx]\n",
    "    val_x, val_y = X_train.iloc[val_idx], y_train.iloc[val_idx]\n",
    "    \n",
    "    gbm.fit(tr_x, tr_y)\n",
    "    \n",
    "    pred = np.expm1([0 if x < 0 else x for x in gbm.predict(val_x)])\n",
    "    sub_pred = np.expm1([0 if x < 0 else x for x in gbm.predict(test)])\n",
    "    rmse = np.sqrt(mean_squared_error(val_y, pred))\n",
    "    \n",
    "    rmse_list.append(rmse)\n",
    "    \n",
    "    gbm_preds += (sub_pred / 10)"
   ]
  },
  {
   "cell_type": "code",
   "execution_count": 65,
   "metadata": {
    "ExecuteTime": {
     "end_time": "2022-05-22T11:23:48.423953Z",
     "start_time": "2022-05-22T11:23:48.410918Z"
    },
    "scrolled": true
   },
   "outputs": [
    {
     "data": {
      "text/plain": [
       "1183312.1916131715"
      ]
     },
     "execution_count": 65,
     "metadata": {},
     "output_type": "execute_result"
    }
   ],
   "source": [
    "np.mean(rmse_list) # 1183312.1916131715"
   ]
  },
  {
   "cell_type": "markdown",
   "metadata": {},
   "source": [
    "## random forest"
   ]
  },
  {
   "cell_type": "code",
   "execution_count": 66,
   "metadata": {
    "ExecuteTime": {
     "end_time": "2022-05-22T11:23:51.103992Z",
     "start_time": "2022-05-22T11:23:48.425878Z"
    }
   },
   "outputs": [],
   "source": [
    "rf = RandomForestRegressor(random_state = 0)\n",
    "rmse_list = []\n",
    "rf_preds = np.zeros((test.shape[0]))\n",
    "for tr_idx, val_idx in kf.split(X_train, y_train) :\n",
    "    tr_x, tr_y = X_train.iloc[tr_idx], y_train.iloc[tr_idx]\n",
    "    val_x, val_y = X_train.iloc[val_idx], y_train.iloc[val_idx]\n",
    "    \n",
    "    rf.fit(tr_x, tr_y)\n",
    "    \n",
    "    pred = np.expm1([0 if x < 0 else x for x in rf.predict(val_x)])\n",
    "    sub_pred = np.expm1([0 if x < 0 else x for x in rf.predict(test)])\n",
    "    rmse = np.sqrt(mean_squared_error(val_y, pred))\n",
    "    \n",
    "    rmse_list.append(rmse)\n",
    "    \n",
    "    rf_preds += (sub_pred / 10)"
   ]
  },
  {
   "cell_type": "code",
   "execution_count": 67,
   "metadata": {
    "ExecuteTime": {
     "end_time": "2022-05-22T11:23:51.118844Z",
     "start_time": "2022-05-22T11:23:51.105880Z"
    }
   },
   "outputs": [
    {
     "data": {
      "text/plain": [
       "889228.5414681748"
      ]
     },
     "execution_count": 67,
     "metadata": {},
     "output_type": "execute_result"
    }
   ],
   "source": [
    "np.mean(rmse_list) # 889228.5414681748"
   ]
  },
  {
   "cell_type": "markdown",
   "metadata": {},
   "source": [
    "## CatBoost"
   ]
  },
  {
   "cell_type": "code",
   "execution_count": 68,
   "metadata": {
    "ExecuteTime": {
     "end_time": "2022-05-22T11:24:02.146756Z",
     "start_time": "2022-05-22T11:23:51.126823Z"
    }
   },
   "outputs": [],
   "source": [
    "cb = CatBoostRegressor(random_state = 0)\n",
    "rmse_list = []\n",
    "cb_preds = np.zeros((test.shape[0]))\n",
    "for tr_idx, val_idx in kf.split(X_train, y_train) :\n",
    "    tr_x, tr_y = X_train.iloc[tr_idx], y_train.iloc[tr_idx]\n",
    "    val_x, val_y = X_train.iloc[val_idx], y_train.iloc[val_idx]\n",
    "    \n",
    "    cb.fit(tr_x, tr_y, silent = True)\n",
    "    \n",
    "    pred = np.expm1([0 if x < 0 else x for x in cb.predict(val_x)])\n",
    "    sub_pred = np.expm1([0 if x < 0 else x for x in cb.predict(test)])\n",
    "    rmse = np.sqrt(mean_squared_error(val_y, pred))\n",
    "    \n",
    "    rmse_list.append(rmse)\n",
    "    \n",
    "    cb_preds += (sub_pred / 10)"
   ]
  },
  {
   "cell_type": "code",
   "execution_count": 69,
   "metadata": {
    "ExecuteTime": {
     "end_time": "2022-05-22T11:24:02.161715Z",
     "start_time": "2022-05-22T11:24:02.150670Z"
    }
   },
   "outputs": [
    {
     "data": {
      "text/plain": [
       "1095530.755100677"
      ]
     },
     "execution_count": 69,
     "metadata": {},
     "output_type": "execute_result"
    }
   ],
   "source": [
    "np.mean(rmse_list) #1095530.755100677"
   ]
  },
  {
   "cell_type": "markdown",
   "metadata": {},
   "source": [
    "## XGBoost"
   ]
  },
  {
   "cell_type": "code",
   "execution_count": 70,
   "metadata": {
    "ExecuteTime": {
     "end_time": "2022-05-22T11:24:03.283638Z",
     "start_time": "2022-05-22T11:24:02.163635Z"
    }
   },
   "outputs": [],
   "source": [
    "xgb = XGBRegressor(random_state = 0)\n",
    "rmse_list = []\n",
    "xgb_preds = np.zeros((test.shape[0]))\n",
    "for tr_idx, val_idx in kf.split(X_train, y_train) :\n",
    "    tr_x, tr_y = X_train.iloc[tr_idx], y_train.iloc[tr_idx]\n",
    "    val_x, val_y = X_train.iloc[val_idx], y_train.iloc[val_idx]\n",
    "    \n",
    "    xgb.fit(tr_x, tr_y)\n",
    "    \n",
    "    pred = np.expm1([0 if x < 0 else x for x in xgb.predict(val_x)])\n",
    "    sub_pred = np.expm1([0 if x < 0 else x for x in xgb.predict(test)])\n",
    "    rmse = np.sqrt(mean_squared_error(val_y, pred))\n",
    "    \n",
    "    rmse_list.append(rmse)\n",
    "    \n",
    "    xgb_preds += (sub_pred / 10)"
   ]
  },
  {
   "cell_type": "code",
   "execution_count": 71,
   "metadata": {
    "ExecuteTime": {
     "end_time": "2022-05-22T11:24:03.298668Z",
     "start_time": "2022-05-22T11:24:03.285633Z"
    }
   },
   "outputs": [
    {
     "data": {
      "text/plain": [
       "1437755.4119406561"
      ]
     },
     "execution_count": 71,
     "metadata": {},
     "output_type": "execute_result"
    }
   ],
   "source": [
    "np.mean(rmse_list) # 1437755.4119406561"
   ]
  },
  {
   "cell_type": "markdown",
   "metadata": {},
   "source": [
    "## LGBM"
   ]
  },
  {
   "cell_type": "code",
   "execution_count": 72,
   "metadata": {
    "ExecuteTime": {
     "end_time": "2022-05-22T11:24:03.778366Z",
     "start_time": "2022-05-22T11:24:03.300595Z"
    }
   },
   "outputs": [],
   "source": [
    "lgb = LGBMRegressor(random_state = 0)\n",
    "rmse_list = []\n",
    "lgb_preds = np.zeros((test.shape[0]))\n",
    "for tr_idx, val_idx in kf.split(X_train, y_train) :\n",
    "    tr_x, tr_y = X_train.iloc[tr_idx], y_train.iloc[tr_idx]\n",
    "    val_x, val_y = X_train.iloc[val_idx], y_train.iloc[val_idx]\n",
    "    \n",
    "    lgb.fit(tr_x, tr_y)\n",
    "    \n",
    "    pred = np.expm1([0 if x < 0 else x for x in lgb.predict(val_x)])\n",
    "    sub_pred = np.expm1([0 if x < 0 else x for x in lgb.predict(test)])\n",
    "    rmse = np.sqrt(mean_squared_error(val_y, pred))\n",
    "    \n",
    "    rmse_list.append(rmse)\n",
    "    \n",
    "    lgb_preds += (sub_pred / 10)"
   ]
  },
  {
   "cell_type": "code",
   "execution_count": 73,
   "metadata": {
    "ExecuteTime": {
     "end_time": "2022-05-22T11:24:03.793334Z",
     "start_time": "2022-05-22T11:24:03.780312Z"
    }
   },
   "outputs": [
    {
     "data": {
      "text/plain": [
       "1214039.693589237"
      ]
     },
     "execution_count": 73,
     "metadata": {},
     "output_type": "execute_result"
    }
   ],
   "source": [
    "np.mean(rmse_list) # 1214039.693589237"
   ]
  },
  {
   "cell_type": "markdown",
   "metadata": {},
   "source": [
    "# predict"
   ]
  },
  {
   "cell_type": "code",
   "execution_count": 74,
   "metadata": {
    "ExecuteTime": {
     "end_time": "2022-05-22T11:24:03.808311Z",
     "start_time": "2022-05-22T11:24:03.795273Z"
    }
   },
   "outputs": [],
   "source": [
    "submission = pd.read_csv('submission.csv')\n",
    "submission['box_off_num'] = (xgb_preds + cb_preds + lgb_preds + rf_preds + gbm_preds) / 5"
   ]
  },
  {
   "cell_type": "code",
   "execution_count": 75,
   "metadata": {
    "ExecuteTime": {
     "end_time": "2022-05-22T11:24:03.823257Z",
     "start_time": "2022-05-22T11:24:03.810232Z"
    }
   },
   "outputs": [
    {
     "data": {
      "text/html": [
       "<div>\n",
       "<style scoped>\n",
       "    .dataframe tbody tr th:only-of-type {\n",
       "        vertical-align: middle;\n",
       "    }\n",
       "\n",
       "    .dataframe tbody tr th {\n",
       "        vertical-align: top;\n",
       "    }\n",
       "\n",
       "    .dataframe thead th {\n",
       "        text-align: right;\n",
       "    }\n",
       "</style>\n",
       "<table border=\"1\" class=\"dataframe\">\n",
       "  <thead>\n",
       "    <tr style=\"text-align: right;\">\n",
       "      <th></th>\n",
       "      <th>title</th>\n",
       "      <th>box_off_num</th>\n",
       "    </tr>\n",
       "  </thead>\n",
       "  <tbody>\n",
       "    <tr>\n",
       "      <th>130</th>\n",
       "      <td>댄서김의 은밀한 교수법</td>\n",
       "      <td>1.453117e+01</td>\n",
       "    </tr>\n",
       "    <tr>\n",
       "      <th>39</th>\n",
       "      <td>REC 알이씨</td>\n",
       "      <td>1.755326e+01</td>\n",
       "    </tr>\n",
       "    <tr>\n",
       "      <th>139</th>\n",
       "      <td>화려한 외출</td>\n",
       "      <td>2.352633e+01</td>\n",
       "    </tr>\n",
       "    <tr>\n",
       "      <th>173</th>\n",
       "      <td>옹녀뎐</td>\n",
       "      <td>2.384286e+01</td>\n",
       "    </tr>\n",
       "    <tr>\n",
       "      <th>65</th>\n",
       "      <td>엄마는 창녀다</td>\n",
       "      <td>3.160763e+01</td>\n",
       "    </tr>\n",
       "    <tr>\n",
       "      <th>...</th>\n",
       "      <td>...</td>\n",
       "      <td>...</td>\n",
       "    </tr>\n",
       "    <tr>\n",
       "      <th>135</th>\n",
       "      <td>용의자</td>\n",
       "      <td>4.299469e+06</td>\n",
       "    </tr>\n",
       "    <tr>\n",
       "      <th>229</th>\n",
       "      <td>베테랑</td>\n",
       "      <td>4.485544e+06</td>\n",
       "    </tr>\n",
       "    <tr>\n",
       "      <th>142</th>\n",
       "      <td>박수건달</td>\n",
       "      <td>5.378980e+06</td>\n",
       "    </tr>\n",
       "    <tr>\n",
       "      <th>179</th>\n",
       "      <td>군도: 민란의 시대</td>\n",
       "      <td>6.399873e+06</td>\n",
       "    </tr>\n",
       "    <tr>\n",
       "      <th>178</th>\n",
       "      <td>명량</td>\n",
       "      <td>7.084709e+06</td>\n",
       "    </tr>\n",
       "  </tbody>\n",
       "</table>\n",
       "<p>243 rows × 2 columns</p>\n",
       "</div>"
      ],
      "text/plain": [
       "            title   box_off_num\n",
       "130  댄서김의 은밀한 교수법  1.453117e+01\n",
       "39        REC 알이씨  1.755326e+01\n",
       "139        화려한 외출  2.352633e+01\n",
       "173           옹녀뎐  2.384286e+01\n",
       "65        엄마는 창녀다  3.160763e+01\n",
       "..            ...           ...\n",
       "135           용의자  4.299469e+06\n",
       "229           베테랑  4.485544e+06\n",
       "142          박수건달  5.378980e+06\n",
       "179    군도: 민란의 시대  6.399873e+06\n",
       "178            명량  7.084709e+06\n",
       "\n",
       "[243 rows x 2 columns]"
      ]
     },
     "execution_count": 75,
     "metadata": {},
     "output_type": "execute_result"
    }
   ],
   "source": [
    "submission.sort_values(by = 'box_off_num')"
   ]
  },
  {
   "cell_type": "code",
   "execution_count": 76,
   "metadata": {
    "ExecuteTime": {
     "end_time": "2022-05-22T11:24:03.838227Z",
     "start_time": "2022-05-22T11:24:03.826190Z"
    }
   },
   "outputs": [
    {
     "data": {
      "text/html": [
       "<div>\n",
       "<style scoped>\n",
       "    .dataframe tbody tr th:only-of-type {\n",
       "        vertical-align: middle;\n",
       "    }\n",
       "\n",
       "    .dataframe tbody tr th {\n",
       "        vertical-align: top;\n",
       "    }\n",
       "\n",
       "    .dataframe thead th {\n",
       "        text-align: right;\n",
       "    }\n",
       "</style>\n",
       "<table border=\"1\" class=\"dataframe\">\n",
       "  <thead>\n",
       "    <tr style=\"text-align: right;\">\n",
       "      <th></th>\n",
       "      <th>title</th>\n",
       "      <th>box_off_num</th>\n",
       "    </tr>\n",
       "  </thead>\n",
       "  <tbody>\n",
       "    <tr>\n",
       "      <th>0</th>\n",
       "      <td>용서는 없다</td>\n",
       "      <td>1.237701e+06</td>\n",
       "    </tr>\n",
       "    <tr>\n",
       "      <th>1</th>\n",
       "      <td>아빠가 여자를 좋아해</td>\n",
       "      <td>1.875215e+06</td>\n",
       "    </tr>\n",
       "    <tr>\n",
       "      <th>2</th>\n",
       "      <td>하모니</td>\n",
       "      <td>8.255154e+05</td>\n",
       "    </tr>\n",
       "    <tr>\n",
       "      <th>3</th>\n",
       "      <td>의형제</td>\n",
       "      <td>2.079874e+06</td>\n",
       "    </tr>\n",
       "    <tr>\n",
       "      <th>4</th>\n",
       "      <td>평행 이론</td>\n",
       "      <td>2.103890e+06</td>\n",
       "    </tr>\n",
       "    <tr>\n",
       "      <th>...</th>\n",
       "      <td>...</td>\n",
       "      <td>...</td>\n",
       "    </tr>\n",
       "    <tr>\n",
       "      <th>238</th>\n",
       "      <td>해에게서 소년에게</td>\n",
       "      <td>8.612354e+03</td>\n",
       "    </tr>\n",
       "    <tr>\n",
       "      <th>239</th>\n",
       "      <td>울보 권투부</td>\n",
       "      <td>3.757587e+03</td>\n",
       "    </tr>\n",
       "    <tr>\n",
       "      <th>240</th>\n",
       "      <td>어떤살인</td>\n",
       "      <td>1.396129e+02</td>\n",
       "    </tr>\n",
       "    <tr>\n",
       "      <th>241</th>\n",
       "      <td>말하지 못한 비밀</td>\n",
       "      <td>1.463318e+03</td>\n",
       "    </tr>\n",
       "    <tr>\n",
       "      <th>242</th>\n",
       "      <td>조선안방 스캔들-칠거지악 2</td>\n",
       "      <td>6.156570e+02</td>\n",
       "    </tr>\n",
       "  </tbody>\n",
       "</table>\n",
       "<p>243 rows × 2 columns</p>\n",
       "</div>"
      ],
      "text/plain": [
       "               title   box_off_num\n",
       "0             용서는 없다  1.237701e+06\n",
       "1        아빠가 여자를 좋아해  1.875215e+06\n",
       "2                하모니  8.255154e+05\n",
       "3                의형제  2.079874e+06\n",
       "4              평행 이론  2.103890e+06\n",
       "..               ...           ...\n",
       "238        해에게서 소년에게  8.612354e+03\n",
       "239           울보 권투부  3.757587e+03\n",
       "240             어떤살인  1.396129e+02\n",
       "241        말하지 못한 비밀  1.463318e+03\n",
       "242  조선안방 스캔들-칠거지악 2  6.156570e+02\n",
       "\n",
       "[243 rows x 2 columns]"
      ]
     },
     "execution_count": 76,
     "metadata": {},
     "output_type": "execute_result"
    }
   ],
   "source": [
    "submission"
   ]
  },
  {
   "cell_type": "code",
   "execution_count": 77,
   "metadata": {
    "ExecuteTime": {
     "end_time": "2022-05-22T11:24:03.853172Z",
     "start_time": "2022-05-22T11:24:03.840153Z"
    }
   },
   "outputs": [],
   "source": [
    "submission.to_csv('sub5.csv',index = False)"
   ]
  },
  {
   "cell_type": "code",
   "execution_count": 78,
   "metadata": {
    "ExecuteTime": {
     "end_time": "2022-05-22T11:24:39.401253Z",
     "start_time": "2022-05-22T11:24:39.378215Z"
    }
   },
   "outputs": [],
   "source": [
    "submission = pd.read_csv('submission.csv')\n",
    "submission['box_off_num'] = rf_preds\n",
    "submission.to_csv('sub0522_1.csv',index = False)"
   ]
  },
  {
   "cell_type": "code",
   "execution_count": null,
   "metadata": {},
   "outputs": [],
   "source": []
  }
 ],
 "metadata": {
  "hide_input": false,
  "kernelspec": {
   "display_name": "Python 3",
   "language": "python",
   "name": "python3"
  },
  "language_info": {
   "codemirror_mode": {
    "name": "ipython",
    "version": 3
   },
   "file_extension": ".py",
   "mimetype": "text/x-python",
   "name": "python",
   "nbconvert_exporter": "python",
   "pygments_lexer": "ipython3",
   "version": "3.8.5"
  },
  "toc": {
   "base_numbering": 1,
   "nav_menu": {},
   "number_sections": true,
   "sideBar": true,
   "skip_h1_title": false,
   "title_cell": "Table of Contents",
   "title_sidebar": "Contents",
   "toc_cell": false,
   "toc_position": {
    "height": "calc(100% - 180px)",
    "left": "10px",
    "top": "150px",
    "width": "384px"
   },
   "toc_section_display": true,
   "toc_window_display": true
  },
  "varInspector": {
   "cols": {
    "lenName": 16,
    "lenType": 16,
    "lenVar": 40
   },
   "kernels_config": {
    "python": {
     "delete_cmd_postfix": "",
     "delete_cmd_prefix": "del ",
     "library": "var_list.py",
     "varRefreshCmd": "print(var_dic_list())"
    },
    "r": {
     "delete_cmd_postfix": ") ",
     "delete_cmd_prefix": "rm(",
     "library": "var_list.r",
     "varRefreshCmd": "cat(var_dic_list()) "
    }
   },
   "types_to_exclude": [
    "module",
    "function",
    "builtin_function_or_method",
    "instance",
    "_Feature"
   ],
   "window_display": false
  }
 },
 "nbformat": 4,
 "nbformat_minor": 4
}
